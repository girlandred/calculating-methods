{
  "nbformat": 4,
  "nbformat_minor": 0,
  "metadata": {
    "colab": {
      "provenance": [],
      "authorship_tag": "ABX9TyNDEeihj5CdYwjhvzqO1uYy"
    },
    "kernelspec": {
      "name": "python3",
      "display_name": "Python 3"
    },
    "language_info": {
      "name": "python"
    }
  },
  "cells": [
    {
      "cell_type": "code",
      "execution_count": 19,
      "metadata": {
        "id": "4b4NWIkJHuR1"
      },
      "outputs": [],
      "source": [
        "import matplotlib.pyplot as plt"
      ]
    },
    {
      "cell_type": "code",
      "source": [
        "def fxy(x, y):\n",
        "    return 13 * pow(y, 12/13)"
      ],
      "metadata": {
        "id": "sm0TGFVeIAHe"
      },
      "execution_count": 20,
      "outputs": []
    },
    {
      "cell_type": "code",
      "source": [
        "def sol(x):\n",
        "    return x ** 13"
      ],
      "metadata": {
        "id": "Rpa1UnlFIDya"
      },
      "execution_count": 21,
      "outputs": []
    },
    {
      "cell_type": "code",
      "source": [
        "a = 2\n",
        "b = 3\n",
        "h = 10 ** (-1)\n",
        "x0 = a\n",
        "y0 = sol(x0)\n",
        "print(x0, y0)"
      ],
      "metadata": {
        "colab": {
          "base_uri": "https://localhost:8080/"
        },
        "id": "n7HYl4TaIFlf",
        "outputId": "198ad7a8-b262-4158-e1e0-083e173a2928"
      },
      "execution_count": 22,
      "outputs": [
        {
          "output_type": "stream",
          "name": "stdout",
          "text": [
            "2 8192\n"
          ]
        }
      ]
    },
    {
      "cell_type": "code",
      "source": [
        "def RungeKutta(x, y, h):\n",
        "    k1 = h * fxy(x, y)\n",
        "    k2 = h * fxy(x + h*0.5, y + k1*0.5)\n",
        "    k3 = h * fxy(x + h*0.5, y + k2*0.5)\n",
        "    k4 = h * fxy(x + h, y + h*k3)\n",
        "    x1 = x + h\n",
        "    y1 = y + (k1 + 2*k2 + 2*k3 + k4)/6\n",
        "    return x1, y1"
      ],
      "metadata": {
        "id": "GqERJZUbIG4C"
      },
      "execution_count": 23,
      "outputs": []
    },
    {
      "cell_type": "code",
      "source": [
        "def AdamsBashforth(x, y, h):\n",
        "    xl = []\n",
        "    yl = []\n",
        "    ykl = []\n",
        "\n",
        "    x0, y0 = x, y\n",
        "    xl.append(x0)\n",
        "    yl.append(y0)\n",
        "    \n",
        "    x1, y1 = RungeKutta(x0, y0, h)\n",
        "    xl.append(x1)\n",
        "    yl.append(y1)\n",
        "    \n",
        "    x2 = x1 + h\n",
        "    y2 = y1 + (h/2) * (3*fxy(x1, y1) - fxy(x0, y0))\n",
        "    xl.append(x2)\n",
        "    yl.append(y2)\n",
        "    \n",
        "    yk1 = y0 + (h/2)*(fxy(x1, y1) + fxy(x0, y0))\n",
        "    yk2 = y1 + (h/2)*(fxy(x2, y2) + fxy(x1, y1))\n",
        "    ykl.append(y0)\n",
        "    ykl.append(yk1)\n",
        "    ykl.append(yk2)\n",
        "    \n",
        "    while x2 <= b:\n",
        "        x0, y0 = x1, y1\n",
        "        x1, y1 = x2, y2\n",
        "        x2 = x1 + h\n",
        "        y2 = y1 + (h/2) * (3*fxy(x1, y1) - fxy(x0, y0))\n",
        "        yk2 = y1 + (h/2)*(fxy(x2, y2) + fxy(x1, y1))\n",
        "        xl.append(x2)\n",
        "        yl.append(y2)\n",
        "        ykl.append(yk2)\n",
        "    return xl, yl, ykl"
      ],
      "metadata": {
        "id": "y78frB9CIINr"
      },
      "execution_count": 24,
      "outputs": []
    },
    {
      "cell_type": "code",
      "source": [
        "X, Y, YK = AdamsBashforth(x0, y0, h)\n",
        "print(X, Y, YK, sep='\\n')"
      ],
      "metadata": {
        "colab": {
          "base_uri": "https://localhost:8080/"
        },
        "id": "DP6W2XnUIJ2x",
        "outputId": "f0328990-79f6-4fe7-e3b4-96e5babc1891"
      },
      "execution_count": 25,
      "outputs": [
        {
          "output_type": "stream",
          "name": "stdout",
          "text": [
            "[2, 2.1, 2.2, 2.3000000000000003, 2.4000000000000004, 2.5000000000000004, 2.6000000000000005, 2.7000000000000006, 2.8000000000000007, 2.900000000000001, 3.000000000000001]\n",
            "[8192, 14797.345420101105, 25920.843171400567, 44455.3645430466, 74801.68896496667, 123638.16941584178, 200963.36481111948, 321538.6598797761, 506869.5487440096, 787897.9894239604, 1208623.1180266682]\n",
            "[8192, 15449.699250433157, 27102.584877893987, 46316.20492185356, 77648.08675079599, 127919.82164960074, 207311.04379869794, 330823.0509163682, 520278.3317629205, 807033.962465944, 1235627.7274392503]\n"
          ]
        }
      ]
    },
    {
      "cell_type": "code",
      "source": [
        "eps = []\n",
        "for i in range (len(Y)):\n",
        "    eps.append(abs(sol(X[i]) - Y[i]))\n",
        "plt.plot(X, eps)\n",
        "plt.legend(['error'])\n",
        "plt.show()"
      ],
      "metadata": {
        "colab": {
          "base_uri": "https://localhost:8080/",
          "height": 267
        },
        "id": "FRLzBkvbILlP",
        "outputId": "64b516cf-ebe8-4c10-e318-82e8c7b7b07c"
      },
      "execution_count": 26,
      "outputs": [
        {
          "output_type": "display_data",
          "data": {
            "text/plain": [
              "<Figure size 432x288 with 1 Axes>"
            ],
            "image/png": "[encoded data removed]"
          },
          "metadata": {
            "needs_background": "light"
          }
        }
      ]
    },
    {
      "cell_type": "code",
      "source": [
        "epsl = []\n",
        "for i in range (len(Y)):\n",
        "    epsl.append(abs(YK[i] - Y[i]))\n",
        "plt.plot(X, epsl)\n",
        "plt.legend(['error'])\n",
        "plt.show()"
      ],
      "metadata": {
        "colab": {
          "base_uri": "https://localhost:8080/",
          "height": 265
        },
        "id": "EolDNd6XINL_",
        "outputId": "a8a2669e-9834-4fee-c02b-734389db955a"
      },
      "execution_count": 27,
      "outputs": [
        {
          "output_type": "display_data",
          "data": {
            "text/plain": [
              "<Figure size 432x288 with 1 Axes>"
            ],
            "image/png": "[encoded data removed]"
          },
          "metadata": {
            "needs_background": "light"
          }
        }
      ]
    }
  ]
}