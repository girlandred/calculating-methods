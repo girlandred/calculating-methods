{
  "nbformat": 4,
  "nbformat_minor": 0,
  "metadata": {
    "colab": {
      "provenance": [],
      "collapsed_sections": [],
      "authorship_tag": "ABX9TyMOzmonr+ioKToQlyrQ3YKV",
      "include_colab_link": true
    },
    "kernelspec": {
      "name": "python3",
      "display_name": "Python 3"
    },
    "language_info": {
      "name": "python"
    }
  },
  "cells": [
    {
      "cell_type": "markdown",
      "metadata": {
        "id": "view-in-github",
        "colab_type": "text"
      },
      "source": [
        "<a href=\"https://colab.research.google.com/github/girlandred/calculating-methods/blob/main/lab_5.ipynb\" target=\"_parent\"><img src=\"https://colab.research.google.com/assets/colab-badge.svg\" alt=\"Open In Colab\"/></a>"
      ]
    },
    {
      "cell_type": "code",
      "execution_count": 2,
      "metadata": {
        "id": "Tw8GXhKpxzky"
      },
      "outputs": [],
      "source": [
        "from math import cos, sin\n",
        "import matplotlib.pyplot as plt"
      ]
    },
    {
      "cell_type": "code",
      "source": [
        "def f(x):\n",
        "    return 13 * sin(x - 13)"
      ],
      "metadata": {
        "id": "NNUk3C1hx_ZR"
      },
      "execution_count": 3,
      "outputs": []
    },
    {
      "cell_type": "code",
      "source": [
        "def fp(x):\n",
        "    return 13 * cos(x - 13)"
      ],
      "metadata": {
        "id": "RGWhPsuDx3vY"
      },
      "execution_count": 4,
      "outputs": []
    },
    {
      "cell_type": "code",
      "source": [
        "x0 = 8\n",
        "fp(x0)"
      ],
      "metadata": {
        "colab": {
          "base_uri": "https://localhost:8080/"
        },
        "id": "OAK2plSoyVFl",
        "outputId": "ec54468c-b867-4db0-e0f9-11dbbfd92d2f"
      },
      "execution_count": 5,
      "outputs": [
        {
          "output_type": "execute_result",
          "data": {
            "text/plain": [
              "3.6876084110219414"
            ]
          },
          "metadata": {},
          "execution_count": 5
        }
      ]
    },
    {
      "cell_type": "code",
      "source": [
        "def fn(x, h):\n",
        "    return (f(x + h) - f(x - h))/(2*h)"
      ],
      "metadata": {
        "id": "bzw0nR6YyWpS"
      },
      "execution_count": 6,
      "outputs": []
    },
    {
      "cell_type": "code",
      "source": [
        "# похибка апроксимації\n",
        "def eps1(x, h):\n",
        "    return abs(fn(x, h) - fp(x))"
      ],
      "metadata": {
        "id": "jUX1hh5yyeZL"
      },
      "execution_count": 7,
      "outputs": []
    },
    {
      "cell_type": "code",
      "source": [
        "h = pow(10, -3)\n",
        "print(\"y0'(h) =\", fn(x0, h))\n",
        "print(\"y0'(2h) =\", fn(x0, 2*h))"
      ],
      "metadata": {
        "colab": {
          "base_uri": "https://localhost:8080/"
        },
        "id": "Zb5OfJK5yo7K",
        "outputId": "1ea9c8d5-cc00-468d-99ce-3e907cb72760"
      },
      "execution_count": 10,
      "outputs": [
        {
          "output_type": "stream",
          "name": "stdout",
          "text": [
            "y0'(h) = 3.6876077964205223\n",
            "y0'(2h) = 3.687605952617634\n"
          ]
        }
      ]
    },
    {
      "cell_type": "code",
      "source": [
        "x0 = 8\n",
        "h0 = pow(10, -9)\n",
        "R0 = eps1(x0, h0)\n",
        "R0"
      ],
      "metadata": {
        "colab": {
          "base_uri": "https://localhost:8080/"
        },
        "id": "D8THbf37yf3D",
        "outputId": "e9b4a5d4-1ed0-4951-93aa-d39d10aa6c22"
      },
      "execution_count": 11,
      "outputs": [
        {
          "output_type": "execute_result",
          "data": {
            "text/plain": [
              "9.179841944373379e-07"
            ]
          },
          "metadata": {},
          "execution_count": 11
        }
      ]
    },
    {
      "cell_type": "code",
      "source": [
        "R1 = eps1(x0, h)\n",
        "R1"
      ],
      "metadata": {
        "colab": {
          "base_uri": "https://localhost:8080/"
        },
        "id": "eQ5x2pdTyjq8",
        "outputId": "5e96d937-ff66-49cb-941b-1769859d653e"
      },
      "execution_count": 12,
      "outputs": [
        {
          "output_type": "execute_result",
          "data": {
            "text/plain": [
              "6.146014190910876e-07"
            ]
          },
          "metadata": {},
          "execution_count": 12
        }
      ]
    },
    {
      "cell_type": "code",
      "source": [
        "# метод Рунге-Ромберга\n",
        "def fnR(x, h):\n",
        "    return fn(x, h) + (fn(x, h) - fn(x, 2*h))/3"
      ],
      "metadata": {
        "id": "IrkHLOKLys47"
      },
      "execution_count": 13,
      "outputs": []
    },
    {
      "cell_type": "code",
      "source": [
        "# похибка методу Рунге-Ромберга\n",
        "def eps2(x, h):\n",
        "    return abs(fnR(x, h) - fp(x))"
      ],
      "metadata": {
        "id": "yodiGc-iyuuo"
      },
      "execution_count": 14,
      "outputs": []
    },
    {
      "cell_type": "code",
      "source": [
        "R2 = eps2(x0, h)\n",
        "R2"
      ],
      "metadata": {
        "colab": {
          "base_uri": "https://localhost:8080/"
        },
        "id": "jxTccNlZyxnq",
        "outputId": "32d782c6-8d60-4c2a-bf6d-c9bcdfc9856a"
      },
      "execution_count": 15,
      "outputs": [
        {
          "output_type": "execute_result",
          "data": {
            "text/plain": [
              "4.565237077258644e-13"
            ]
          },
          "metadata": {},
          "execution_count": 15
        }
      ]
    },
    {
      "cell_type": "code",
      "source": [
        "# метод Ейткена\n",
        "def fnE(x, h):\n",
        "    a = (fn(x, 2*h))**2 - fn(x, 4*h)*fn(x, h)\n",
        "    b = 2*fn(x, 2*h) - (fn(x, 4*h) + fn(x, h))\n",
        "    return a/b"
      ],
      "metadata": {
        "id": "IY1LCl7oyzbs"
      },
      "execution_count": 16,
      "outputs": []
    },
    {
      "cell_type": "code",
      "source": [
        "# похибка методу Ейткена\n",
        "def eps3(x, y):\n",
        "    return abs(fnE(x, h) - fp(x))"
      ],
      "metadata": {
        "id": "P0LTJ_Lzy1hE"
      },
      "execution_count": 17,
      "outputs": []
    },
    {
      "cell_type": "code",
      "source": [
        "R3 = eps3(x0, h)\n",
        "R3"
      ],
      "metadata": {
        "colab": {
          "base_uri": "https://localhost:8080/"
        },
        "id": "I7RZvVpQy4ew",
        "outputId": "94e4b08c-3998-47c3-d58b-e6f88658ed74"
      },
      "execution_count": 18,
      "outputs": [
        {
          "output_type": "execute_result",
          "data": {
            "text/plain": [
              "5.4726445597452766e-11"
            ]
          },
          "metadata": {},
          "execution_count": 18
        }
      ]
    }
  ]
}