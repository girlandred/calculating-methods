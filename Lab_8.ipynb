{
  "nbformat": 4,
  "nbformat_minor": 0,
  "metadata": {
    "colab": {
      "provenance": [],
      "collapsed_sections": [],
      "authorship_tag": "ABX9TyNPfXtR567BDzaFTCFuB+GA"
    },
    "kernelspec": {
      "name": "python3",
      "display_name": "Python 3"
    },
    "language_info": {
      "name": "python"
    }
  },
  "cells": [
    {
      "cell_type": "code",
      "execution_count": 1,
      "metadata": {
        "id": "qk1zpXSZ5wHR"
      },
      "outputs": [],
      "source": [
        "from random import randint\n",
        "import numpy as np"
      ]
    },
    {
      "cell_type": "code",
      "source": [
        "k = 13\n",
        "N = 100\n",
        "X = [0]*N\n",
        "X_1n = np.array([[1,2,3], [4,5,6], [7,8,9]])\n",
        "X_0n = np.array([[1,2,3]])\n",
        "\n",
        "A = [ [0]*N for i in range(N) ]\n",
        "\n",
        "for i in range(N):\n",
        "    for j in range(N):\n",
        "        if i == j:\n",
        "            A[i][j] = k + 20\n",
        "        else:\n",
        "            A[i][j] = randint(k, k + 20)"
      ],
      "metadata": {
        "id": "_yMB393x-42v"
      },
      "execution_count": 2,
      "outputs": []
    },
    {
      "cell_type": "code",
      "source": [
        "X_answer = [k]*N"
      ],
      "metadata": {
        "id": "GFVDI_kq--BE"
      },
      "execution_count": 3,
      "outputs": []
    },
    {
      "cell_type": "code",
      "source": [
        "B = [0]*N\n",
        "\n",
        "for i in range(N):\n",
        "    for j in range(N):\n",
        "        B[i] += A[i][j]*X_answer[j]"
      ],
      "metadata": {
        "id": "EnxhOBOV_iND"
      },
      "execution_count": 4,
      "outputs": []
    },
    {
      "cell_type": "code",
      "source": [
        "def multiplicationMV(M, V, N):\n",
        "    R = [0]*N\n",
        "    for i in range(N):\n",
        "        sum = 0\n",
        "        for j in range(N):\n",
        "            sum += M[i][j] * V[j]\n",
        "        R[i] = sum\n",
        "    return R"
      ],
      "metadata": {
        "id": "rzEVnbbh_j5I"
      },
      "execution_count": 5,
      "outputs": []
    },
    {
      "cell_type": "code",
      "source": [
        "def matrixNorm(M, N):\n",
        "    max = 0\n",
        "    for i in range(N):\n",
        "        sum = 0\n",
        "        for j in range(N):\n",
        "            sum += abs(M[i][j])\n",
        "        if sum > max:\n",
        "            max = sum\n",
        "    return max"
      ],
      "metadata": {
        "id": "xcC8uWCL_mJI"
      },
      "execution_count": 6,
      "outputs": []
    },
    {
      "cell_type": "code",
      "source": [
        "def matrixDiff(F, S, N):\n",
        "    R = [ [0]*N for i in range(N) ]\n",
        "    for i in range(N):\n",
        "        for j in range(N):\n",
        "            R[i][j] = F[i][j] - S[i][j]\n",
        "    return R;"
      ],
      "metadata": {
        "id": "4vlXcL-I_n9y"
      },
      "execution_count": 7,
      "outputs": []
    },
    {
      "cell_type": "code",
      "source": [
        "t = 1/matrixNorm(A, N)\n",
        "\n",
        "E = [ [0]*N for i in range(N) ]\n",
        "for i in range(N):\n",
        "    E[i][i] = 1\n",
        "    \n",
        "for i in range(N):\n",
        "    for j in range(N):\n",
        "        A[i][j] *= t\n",
        "\n",
        "C = matrixDiff(E, A, N)\n",
        "\n",
        "D = [0] * N\n",
        "for i in range(N):\n",
        "    D[i]= B[i] * t\n",
        "    \n",
        "eps = 10**(-14)"
      ],
      "metadata": {
        "id": "0KGLAPfF_pn9"
      },
      "execution_count": 8,
      "outputs": []
    },
    {
      "cell_type": "code",
      "source": [
        "def vectorNormDiff(F, S, N):\n",
        "    max = 0\n",
        "    for i in range(N):\n",
        "        if abs(F[i] - S[i] > max):\n",
        "            max = abs(F[i] - S[i])\n",
        "    return max"
      ],
      "metadata": {
        "id": "Wje2QVEB_r5M"
      },
      "execution_count": 9,
      "outputs": []
    },
    {
      "cell_type": "code",
      "source": [
        "vectorNormDiff([3, 1, 2], [1, 1, 1], N)"
      ],
      "metadata": {
        "colab": {
          "base_uri": "https://localhost:8080/",
          "height": 299
        },
        "id": "RGAAhGhXAD9P",
        "outputId": "9bb186e9-0972-41e3-985a-47968101d861"
      },
      "execution_count": 10,
      "outputs": [
        {
          "output_type": "error",
          "ename": "IndexError",
          "evalue": "ignored",
          "traceback": [
            "\u001b[0;31m---------------------------------------------------------------------------\u001b[0m",
            "\u001b[0;31mIndexError\u001b[0m                                Traceback (most recent call last)",
            "\u001b[0;32m<ipython-input-10-1dd63d573108>\u001b[0m in \u001b[0;36m<module>\u001b[0;34m\u001b[0m\n\u001b[0;32m----> 1\u001b[0;31m \u001b[0mvectorNormDiff\u001b[0m\u001b[0;34m(\u001b[0m\u001b[0;34m[\u001b[0m\u001b[0;36m3\u001b[0m\u001b[0;34m,\u001b[0m \u001b[0;36m1\u001b[0m\u001b[0;34m,\u001b[0m \u001b[0;36m2\u001b[0m\u001b[0;34m]\u001b[0m\u001b[0;34m,\u001b[0m \u001b[0;34m[\u001b[0m\u001b[0;36m1\u001b[0m\u001b[0;34m,\u001b[0m \u001b[0;36m1\u001b[0m\u001b[0;34m,\u001b[0m \u001b[0;36m1\u001b[0m\u001b[0;34m]\u001b[0m\u001b[0;34m,\u001b[0m \u001b[0mN\u001b[0m\u001b[0;34m)\u001b[0m\u001b[0;34m\u001b[0m\u001b[0;34m\u001b[0m\u001b[0m\n\u001b[0m",
            "\u001b[0;32m<ipython-input-9-cfa8cbdda6a2>\u001b[0m in \u001b[0;36mvectorNormDiff\u001b[0;34m(F, S, N)\u001b[0m\n\u001b[1;32m      2\u001b[0m     \u001b[0mmax\u001b[0m \u001b[0;34m=\u001b[0m \u001b[0;36m0\u001b[0m\u001b[0;34m\u001b[0m\u001b[0;34m\u001b[0m\u001b[0m\n\u001b[1;32m      3\u001b[0m     \u001b[0;32mfor\u001b[0m \u001b[0mi\u001b[0m \u001b[0;32min\u001b[0m \u001b[0mrange\u001b[0m\u001b[0;34m(\u001b[0m\u001b[0mN\u001b[0m\u001b[0;34m)\u001b[0m\u001b[0;34m:\u001b[0m\u001b[0;34m\u001b[0m\u001b[0;34m\u001b[0m\u001b[0m\n\u001b[0;32m----> 4\u001b[0;31m         \u001b[0;32mif\u001b[0m \u001b[0mabs\u001b[0m\u001b[0;34m(\u001b[0m\u001b[0mF\u001b[0m\u001b[0;34m[\u001b[0m\u001b[0mi\u001b[0m\u001b[0;34m]\u001b[0m \u001b[0;34m-\u001b[0m \u001b[0mS\u001b[0m\u001b[0;34m[\u001b[0m\u001b[0mi\u001b[0m\u001b[0;34m]\u001b[0m \u001b[0;34m>\u001b[0m \u001b[0mmax\u001b[0m\u001b[0;34m)\u001b[0m\u001b[0;34m:\u001b[0m\u001b[0;34m\u001b[0m\u001b[0;34m\u001b[0m\u001b[0m\n\u001b[0m\u001b[1;32m      5\u001b[0m             \u001b[0mmax\u001b[0m \u001b[0;34m=\u001b[0m \u001b[0mabs\u001b[0m\u001b[0;34m(\u001b[0m\u001b[0mF\u001b[0m\u001b[0;34m[\u001b[0m\u001b[0mi\u001b[0m\u001b[0;34m]\u001b[0m \u001b[0;34m-\u001b[0m \u001b[0mS\u001b[0m\u001b[0;34m[\u001b[0m\u001b[0mi\u001b[0m\u001b[0;34m]\u001b[0m\u001b[0;34m)\u001b[0m\u001b[0;34m\u001b[0m\u001b[0;34m\u001b[0m\u001b[0m\n\u001b[1;32m      6\u001b[0m     \u001b[0;32mreturn\u001b[0m \u001b[0mmax\u001b[0m\u001b[0;34m\u001b[0m\u001b[0;34m\u001b[0m\u001b[0m\n",
            "\u001b[0;31mIndexError\u001b[0m: list index out of range"
          ]
        }
      ]
    },
    {
      "cell_type": "code",
      "source": [
        "def simpleIter(X1, X0, tau, N):\n",
        "    k = 0\n",
        "    while vectorNormDiff(X1, X0, N) >= eps:\n",
        "        for i in range(N):\n",
        "            X0[i] = X1[i]\n",
        "        for i in range(N):\n",
        "            sum = 0\n",
        "            for j in range(N):\n",
        "                sum += X0[j]*A[i][j]\n",
        "            X1[i] = X0[i] - t*sum + t*B[i]\n",
        "        k += 1\n",
        "    return X1, k"
      ],
      "metadata": {
        "id": "gxfHY2dg_tX3"
      },
      "execution_count": null,
      "outputs": []
    },
    {
      "cell_type": "code",
      "source": [
        "def zeidelya(X1, X0, N):\n",
        "    k = 0\n",
        "    while vectorNormDiff(X1, X0, N) >= eps:\n",
        "        for i in range(N):\n",
        "            X0[i] = X1[i]\n",
        "        for i in range(N):\n",
        "            sum = 0\n",
        "            for j in range(N):\n",
        "                if j < i:\n",
        "                    sum += X1[j]*A[i][j]\n",
        "                else:\n",
        "                    sum += X0[j]*A[i][j]\n",
        "            X1[i] = (B[i] - sum) / A[i][j]\n",
        "        k += 1\n",
        "    return X1, k"
      ],
      "metadata": {
        "id": "cc7OgwTU_u7U"
      },
      "execution_count": null,
      "outputs": []
    },
    {
      "cell_type": "code",
      "source": [
        "def yacobi(X1, X0, N):\n",
        "    k = 0\n",
        "    while vectorNormDiff(X1, X0, N) >= eps:\n",
        "        for i in range(N):\n",
        "            X0[i] = X1[i]\n",
        "        for i in range(N):\n",
        "            sum = 0\n",
        "            for j in range(N):\n",
        "                if j != i:\n",
        "                    sum += X0[j]*A[i][j]\n",
        "            X1[i] = (B[i] - sum) / A[i][j]\n",
        "        k += 1\n",
        "    return X1, k\n",
        "  \n"
      ],
      "metadata": {
        "id": "ouumZzpZ_weF"
      },
      "execution_count": null,
      "outputs": []
    },
    {
      "cell_type": "code",
      "source": [
        "yacobi(X_1n, X_0n, N)"
      ],
      "metadata": {
        "id": "IELeBLOZC41E"
      },
      "execution_count": null,
      "outputs": []
    }
  ]
}