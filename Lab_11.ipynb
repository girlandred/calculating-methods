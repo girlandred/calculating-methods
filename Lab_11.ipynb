{
  "nbformat": 4,
  "nbformat_minor": 0,
  "metadata": {
    "colab": {
      "provenance": [],
      "authorship_tag": "ABX9TyOmxBtvQ/mHLPvM4S0+Zk09"
    },
    "kernelspec": {
      "name": "python3",
      "display_name": "Python 3"
    },
    "language_info": {
      "name": "python"
    }
  },
  "cells": [
    {
      "cell_type": "code",
      "execution_count": 77,
      "metadata": {
        "id": "6knfFfLz_rp_"
      },
      "outputs": [],
      "source": [
        "import matplotlib.pyplot as plt"
      ]
    },
    {
      "cell_type": "code",
      "source": [
        "def fxy(x, y):\n",
        "    return 13 * pow(y, 12/13)"
      ],
      "metadata": {
        "id": "wYmYvlgo_42K"
      },
      "execution_count": 78,
      "outputs": []
    },
    {
      "cell_type": "code",
      "source": [
        "def sol(x):\n",
        "    return x ** 13"
      ],
      "metadata": {
        "id": "EJ_NOPC2APaF"
      },
      "execution_count": 79,
      "outputs": []
    },
    {
      "cell_type": "code",
      "source": [
        "a = 2\n",
        "b = 3\n",
        "h = 10 ** (-1)\n",
        "x0 = a\n",
        "y0 = sol(x0)\n",
        "print(x0, y0)"
      ],
      "metadata": {
        "colab": {
          "base_uri": "https://localhost:8080/"
        },
        "id": "1NG4FIC9_8W9",
        "outputId": "1138f66e-0b96-421d-86d8-c9b2fd9e7c4b"
      },
      "execution_count": 80,
      "outputs": [
        {
          "output_type": "stream",
          "name": "stdout",
          "text": [
            "2 8192\n"
          ]
        }
      ]
    },
    {
      "cell_type": "code",
      "source": [
        "def rungeKutta(x, y, h):\n",
        "    xl = []\n",
        "    yl = []\n",
        "    xl.append(x)\n",
        "    yl.append(y)\n",
        "    while x < b:\n",
        "        k1 = h * fxy(x0, y0)\n",
        "        k2 = h * fxy(x0 + h*0.5, y0 + k1*0.5)\n",
        "        k3 = h * fxy(x0 + h*0.5, y0 + k2*0.5)\n",
        "        k4 = h * fxy(x0 + h, y0 + h*k3)\n",
        "        x += h\n",
        "        y += (k1 + 2*k2 + 2*k3 + k4)/6\n",
        "        xl.append(x)\n",
        "        yl.append(y)\n",
        "    return xl, yl"
      ],
      "metadata": {
        "id": "a-0m6IvvAAAz"
      },
      "execution_count": 81,
      "outputs": []
    },
    {
      "cell_type": "code",
      "source": [
        "x, y = rungeKutta(x0, y0, h)\n",
        "print(x, y, sep='\\n')"
      ],
      "metadata": {
        "colab": {
          "base_uri": "https://localhost:8080/"
        },
        "id": "0oic8-SKAD4W",
        "outputId": "cb11d16a-c77f-45cf-abc8-7ff28105181a"
      },
      "execution_count": 82,
      "outputs": [
        {
          "output_type": "stream",
          "name": "stdout",
          "text": [
            "[2, 2.1, 2.2, 2.3000000000000003, 2.4000000000000004, 2.5000000000000004, 2.6000000000000005, 2.7000000000000006, 2.8000000000000007, 2.900000000000001, 3.000000000000001]\n",
            "[8192, 14797.345420101105, 21402.69084020221, 28008.036260303314, 34613.38168040442, 41218.72710050552, 47824.07252060663, 54429.41794070773, 61034.763360808836, 67640.10878090994, 74245.45420101105]\n"
          ]
        }
      ]
    },
    {
      "cell_type": "code",
      "source": [
        "eps = []\n",
        "for i in range (len(y)):\n",
        "    eps.append(abs(sol(x[i]) - y[i]))\n",
        "plt.plot(x, eps)\n",
        "plt.legend(['error'])\n",
        "plt.show()"
      ],
      "metadata": {
        "colab": {
          "base_uri": "https://localhost:8080/",
          "height": 276
        },
        "id": "5_UdqqQsAG58",
        "outputId": "1e6685b8-39c6-4e73-9fb2-a25d7e1830c8"
      },
      "execution_count": 83,
      "outputs": [
        {
          "output_type": "display_data",
          "data": {
            "text/plain": [
              "<Figure size 432x288 with 1 Axes>"
            ],
            "image/png": "[encoded data removed]"
          },
          "metadata": {
            "needs_background": "light"
          }
        }
      ]
    },
    {
      "cell_type": "code",
      "source": [
        "epsR = []\n",
        "for i in range (len(y)):\n",
        "    epsR.append(abs(y[i]**(h/2) - y[i]**(h)))\n",
        "plt.plot(x, epsR)\n",
        "plt.legend(['error Runge'])\n",
        "plt.show()"
      ],
      "metadata": {
        "colab": {
          "base_uri": "https://localhost:8080/",
          "height": 265
        },
        "id": "oZ0rVLe3AJV6",
        "outputId": "b7bfdca6-7204-4c0a-91c8-97150f6c75e5"
      },
      "execution_count": 84,
      "outputs": [
        {
          "output_type": "display_data",
          "data": {
            "text/plain": [
              "<Figure size 432x288 with 1 Axes>"
            ],
            "image/png": "[encoded data removed]"
          },
          "metadata": {
            "needs_background": "light"
          }
        }
      ]
    }
  ]
}