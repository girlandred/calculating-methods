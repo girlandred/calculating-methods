{
  "nbformat": 4,
  "nbformat_minor": 0,
  "metadata": {
    "colab": {
      "provenance": [],
      "collapsed_sections": [],
      "authorship_tag": "ABX9TyNBK6uhbTG1hAM5Zr3Vw5if"
    },
    "kernelspec": {
      "name": "python3",
      "display_name": "Python 3"
    },
    "language_info": {
      "name": "python"
    }
  },
  "cells": [
    {
      "cell_type": "code",
      "execution_count": 1,
      "metadata": {
        "id": "i-fP4iXZufEh"
      },
      "outputs": [],
      "source": [
        "from math import cos, sin, pi\n",
        "import matplotlib.pyplot as plt"
      ]
    },
    {
      "cell_type": "code",
      "source": [
        "#initial function\n",
        "def f(x):\n",
        "  return 13 * sin(x + 13)"
      ],
      "metadata": {
        "id": "YVO35Bycu_gt"
      },
      "execution_count": 2,
      "outputs": []
    },
    {
      "cell_type": "code",
      "source": [
        "# F initial function\n",
        "def F(x):\n",
        "    return 13 * cos(x + 13)"
      ],
      "metadata": {
        "id": "GKor_uApvSb9"
      },
      "execution_count": 3,
      "outputs": []
    },
    {
      "cell_type": "code",
      "source": [
        "a = -pi/2\n",
        "b = pi/2\n",
        "\n",
        "eps = 10**(-12)\n",
        "\n",
        "I0 = F(b) - F(a)\n",
        "I0"
      ],
      "metadata": {
        "colab": {
          "base_uri": "https://localhost:8080/"
        },
        "id": "ufbiOd2Vvgra",
        "outputId": "ea1c651f-1702-4e62-f460-934a421c2bcd"
      },
      "execution_count": 4,
      "outputs": [
        {
          "output_type": "execute_result",
          "data": {
            "text/plain": [
              "-10.924342957492664"
            ]
          },
          "metadata": {},
          "execution_count": 4
        }
      ]
    },
    {
      "cell_type": "code",
      "source": [
        "def I(N):\n",
        "    h = (b - a) / N\n",
        "    IntN = f(a)  + f(b)\n",
        "    for i in range(1, N):\n",
        "        if i%2 == 0:\n",
        "            IntN += 2*f(a + i*h)\n",
        "        else:\n",
        "            IntN += 4*f(a + i*h)\n",
        "    IntN *= h/3\n",
        "    return IntN"
      ],
      "metadata": {
        "id": "iZ643HGnvidn"
      },
      "execution_count": 5,
      "outputs": []
    },
    {
      "cell_type": "code",
      "source": [
        "I(1000)"
      ],
      "metadata": {
        "colab": {
          "base_uri": "https://localhost:8080/"
        },
        "id": "69r60qVHvkvu",
        "outputId": "9934eb9b-3d10-412e-cece-3aeb5de28fdd"
      },
      "execution_count": 6,
      "outputs": [
        {
          "output_type": "execute_result",
          "data": {
            "text/plain": [
              "10.924342957498581"
            ]
          },
          "metadata": {},
          "execution_count": 6
        }
      ]
    },
    {
      "cell_type": "code",
      "source": [
        "n, en = [], []\n",
        "nopt, epsopt = 0, 0;\n",
        "for i in range(10, 1000 + 1):\n",
        "    n.append(i)\n",
        "    ei = abs(I(i) - I0)\n",
        "    en.append(ei)\n",
        "    if ei <= eps:\n",
        "        nopt = i\n",
        "        epsopt = ei"
      ],
      "metadata": {
        "id": "59ZTjOpXvnxq"
      },
      "execution_count": 7,
      "outputs": []
    },
    {
      "cell_type": "code",
      "source": [
        "print(nopt, epsopt)"
      ],
      "metadata": {
        "colab": {
          "base_uri": "https://localhost:8080/"
        },
        "id": "MwkSk3xpvqwu",
        "outputId": "d2460fa9-8d7d-4238-c7de-a8007df63900"
      },
      "execution_count": 8,
      "outputs": [
        {
          "output_type": "stream",
          "name": "stdout",
          "text": [
            "0 0\n"
          ]
        }
      ]
    },
    {
      "cell_type": "code",
      "source": [
        "plt.plot(n, en)"
      ],
      "metadata": {
        "colab": {
          "base_uri": "https://localhost:8080/",
          "height": 283
        },
        "id": "-sIIZJ6ivr80",
        "outputId": "0841a472-2c63-4c4b-fa00-0fe6e9e84f3f"
      },
      "execution_count": 9,
      "outputs": [
        {
          "output_type": "execute_result",
          "data": {
            "text/plain": [
              "[<matplotlib.lines.Line2D at 0x7fcfb065dfd0>]"
            ]
          },
          "metadata": {},
          "execution_count": 9
        },
        {
          "output_type": "display_data",
          "data": {
            "text/plain": [
              "<Figure size 432x288 with 1 Axes>"
            ],
            "image/png": "[encoded data removed]"
          },
          "metadata": {
            "needs_background": "light"
          }
        }
      ]
    },
    {
      "cell_type": "code",
      "source": [
        "N0 = nopt // 10 + 4\n",
        "eps0 = abs(I(N0) - I0)\n",
        "print(N0, eps0)"
      ],
      "metadata": {
        "colab": {
          "base_uri": "https://localhost:8080/"
        },
        "id": "kmq2p07avtka",
        "outputId": "4e00440a-cac2-44ce-90c1-222a96d9e344"
      },
      "execution_count": 10,
      "outputs": [
        {
          "output_type": "stream",
          "name": "stdout",
          "text": [
            "4 21.873592078611296\n"
          ]
        }
      ]
    },
    {
      "cell_type": "code",
      "source": [
        "def IR(N):\n",
        "    return I(N) + (I(N) - I(N//2))/15"
      ],
      "metadata": {
        "id": "J7fGq_dmvxRM"
      },
      "execution_count": 11,
      "outputs": []
    },
    {
      "cell_type": "code",
      "source": [
        "def epsR(N):\n",
        "    return abs(IR(N) - I0)"
      ],
      "metadata": {
        "id": "UDC_nXwzv6Xm"
      },
      "execution_count": 12,
      "outputs": []
    },
    {
      "cell_type": "code",
      "source": [
        "print(IR(N0), epsR(N0))"
      ],
      "metadata": {
        "colab": {
          "base_uri": "https://localhost:8080/"
        },
        "id": "xm3DBkEPv8zh",
        "outputId": "9895a720-d427-40a2-abc1-352d91691329"
      },
      "execution_count": 13,
      "outputs": [
        {
          "output_type": "stream",
          "name": "stdout",
          "text": [
            "10.91653604962533 21.840879007117994\n"
          ]
        }
      ]
    },
    {
      "cell_type": "code",
      "source": [
        "def IE(N):\n",
        "    a = (I(N//2))**2 - I(N) * I(N//4)\n",
        "    b = 2 * I(N//2) - (I(N) + I(N//4))\n",
        "    return a/b"
      ],
      "metadata": {
        "id": "Ndon1_gmv-qT"
      },
      "execution_count": 14,
      "outputs": []
    },
    {
      "cell_type": "code",
      "source": [
        "def epsE(N):\n",
        "    return abs(IE(N) - I0)"
      ],
      "metadata": {
        "id": "fXheuJnXwCvm"
      },
      "execution_count": 15,
      "outputs": []
    },
    {
      "cell_type": "code",
      "source": [
        "print(IE(N0), epsE(N0))"
      ],
      "metadata": {
        "colab": {
          "base_uri": "https://localhost:8080/"
        },
        "id": "0-wUQDbywFLF",
        "outputId": "d3360230-c5e6-4777-f8c2-cacc8c82f3a9"
      },
      "execution_count": 16,
      "outputs": [
        {
          "output_type": "stream",
          "name": "stdout",
          "text": [
            "10.969430989812992 21.893773947305654\n"
          ]
        }
      ]
    }
  ]
}