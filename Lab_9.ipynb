{
  "nbformat": 4,
  "nbformat_minor": 0,
  "metadata": {
    "colab": {
      "provenance": [],
      "authorship_tag": "ABX9TyN3vy16o1WNSnGqgSeacaGE"
    },
    "kernelspec": {
      "name": "python3",
      "display_name": "Python 3"
    },
    "language_info": {
      "name": "python"
    }
  },
  "cells": [
    {
      "cell_type": "code",
      "execution_count": 17,
      "metadata": {
        "id": "nU0reQO47n-I"
      },
      "outputs": [],
      "source": [
        "from math import cos, sin, pi\n",
        "import matplotlib.pyplot as plt"
      ]
    },
    {
      "cell_type": "code",
      "source": [
        "def f1(x):\n",
        "    return x**3 - 13*(x**2)"
      ],
      "metadata": {
        "id": "AavgTL1l7wQm"
      },
      "execution_count": 18,
      "outputs": []
    },
    {
      "cell_type": "code",
      "source": [
        "def tabulation(a, b, N):\n",
        "    xl, yl = [], []\n",
        "    h = (b - a)/N\n",
        "    for i in range(N + 1):\n",
        "        x = a + i*h\n",
        "        xl.append(x)\n",
        "        yl.append(f1(x))\n",
        "    return xl, yl"
      ],
      "metadata": {
        "id": "NT3koVlQ70Rm"
      },
      "execution_count": 19,
      "outputs": []
    },
    {
      "cell_type": "code",
      "source": [
        "N = 100\n",
        "k = 13\n",
        "xa = pi/2\n",
        "xn = 1.5\n",
        "eps = 10**(-10)\n",
        "\n",
        "xL, yL = tabulation(k - 7, k + 3, N)\n",
        "\n",
        "plt.plot(xL, yL)\n",
        "plt.legend(['f(x)'])\n",
        "plt.show()"
      ],
      "metadata": {
        "colab": {
          "base_uri": "https://localhost:8080/",
          "height": 265
        },
        "id": "jEqG0Zz-71tU",
        "outputId": "d69106ec-508e-48dc-c72a-6522bd773781"
      },
      "execution_count": 20,
      "outputs": [
        {
          "output_type": "display_data",
          "data": {
            "text/plain": [
              "<Figure size 432x288 with 1 Axes>"
            ],
            "image/png": "[encoded data removed]"
          },
          "metadata": {
            "needs_background": "light"
          }
        }
      ]
    },
    {
      "cell_type": "code",
      "source": [
        "def F(x):\n",
        "    return cos(x)"
      ],
      "metadata": {
        "id": "cbyJRxIj76yv"
      },
      "execution_count": 21,
      "outputs": []
    },
    {
      "cell_type": "code",
      "source": [
        "def f(x):\n",
        "    return -sin(x)"
      ],
      "metadata": {
        "id": "gyViGCEt7_7O"
      },
      "execution_count": 22,
      "outputs": []
    },
    {
      "cell_type": "code",
      "source": [
        "def f2(x):\n",
        "    return -cos(x)"
      ],
      "metadata": {
        "id": "xg-OjdeJ8EEU"
      },
      "execution_count": 23,
      "outputs": []
    },
    {
      "cell_type": "code",
      "source": [
        "def simpleIteration(x):\n",
        "    x0 = x\n",
        "    t = -1/f(x0)\n",
        "    x1 = x0 + t*F(x0)\n",
        "    k = 0\n",
        "    while (abs(x1 - x0) > eps) and (abs(F(x1)) > eps):\n",
        "        x0 = x1\n",
        "        x1 = x0 + t*F(x0)\n",
        "        k += 1\n",
        "    return x1, k"
      ],
      "metadata": {
        "id": "FXZD8Avn8HXo"
      },
      "execution_count": 24,
      "outputs": []
    },
    {
      "cell_type": "code",
      "source": [
        "print(simpleIteration(xn))"
      ],
      "metadata": {
        "colab": {
          "base_uri": "https://localhost:8080/"
        },
        "id": "UpaBV1hyDS1s",
        "outputId": "3c329c0a-0d7e-4c1b-e95c-e1565e65c4aa"
      },
      "execution_count": 25,
      "outputs": [
        {
          "output_type": "stream",
          "name": "stdout",
          "text": [
            "(1.5707963267930196, 3)\n"
          ]
        }
      ]
    },
    {
      "cell_type": "code",
      "source": [
        "def newton(x):\n",
        "    x0 = x\n",
        "    x1 = x0 - F(x0)/f(x0)\n",
        "    k = 0\n",
        "    while (abs(x1 - x0) > eps) and (abs(F(x1)) > eps):\n",
        "        x0 = x1\n",
        "        x1 = x0 - F(x0)/f(x0)\n",
        "        k += 1\n",
        "    return x1, k"
      ],
      "metadata": {
        "id": "KYWDcyjg8JQV"
      },
      "execution_count": 26,
      "outputs": []
    },
    {
      "cell_type": "code",
      "source": [
        "print(newton(xn))"
      ],
      "metadata": {
        "colab": {
          "base_uri": "https://localhost:8080/"
        },
        "id": "y06Y3E0g8MCX",
        "outputId": "ac952fb4-4d03-482d-b974-ff38a8eb0b0a"
      },
      "execution_count": 27,
      "outputs": [
        {
          "output_type": "stream",
          "name": "stdout",
          "text": [
            "(1.5707963267943417, 1)\n"
          ]
        }
      ]
    },
    {
      "cell_type": "code",
      "source": [
        "def chebyshev(x):\n",
        "    x0 = x\n",
        "    x1 = x0 - F(x0)/f(x0) - ((F(x0)**2) * f2(x0))/(2 * f(x0)**3)\n",
        "    k = 0\n",
        "    while (abs(x1 - x0) > eps) and (abs(F(x1)) > eps):\n",
        "        x0 = x1\n",
        "        x1 = x0 - F(x0)/f(x0) - ((F(x0)**2) * f2(x0))/(2 * f(x0)**3)\n",
        "        k += 1\n",
        "    return x1, k"
      ],
      "metadata": {
        "id": "oy085vLW8NX4"
      },
      "execution_count": 28,
      "outputs": []
    },
    {
      "cell_type": "code",
      "source": [
        "print(chebyshev(xn))"
      ],
      "metadata": {
        "colab": {
          "base_uri": "https://localhost:8080/"
        },
        "id": "Jl8AUbtO8RYe",
        "outputId": "c83f1089-f610-4e53-a505-74e563ef0895"
      },
      "execution_count": 29,
      "outputs": [
        {
          "output_type": "stream",
          "name": "stdout",
          "text": [
            "(1.570796326794861, 1)\n"
          ]
        }
      ]
    },
    {
      "cell_type": "code",
      "source": [
        "def hord(x):\n",
        "    x0 = x\n",
        "    t = -1/f(x)\n",
        "    x1 = x0 + t*F(x)\n",
        "    x2 = x1 - F(x1)*(x1 - x0)/F(x1)*F(x0)\n",
        "    k = 0\n",
        "    while (abs(x1 - x0) > eps) and (abs(F(x1)) > eps):\n",
        "        x0 = x1\n",
        "        x1 = x2\n",
        "        x2 = x1 - F(x1)*(x1 - x0)/F(x1)*F(x0)        \n",
        "        k += 1\n",
        "    return x2, k"
      ],
      "metadata": {
        "id": "0zdMtJGR8SVH"
      },
      "execution_count": 30,
      "outputs": []
    },
    {
      "cell_type": "code",
      "source": [
        "print(hord(xn))"
      ],
      "metadata": {
        "colab": {
          "base_uri": "https://localhost:8080/"
        },
        "id": "EhocDxJl8TwY",
        "outputId": "c6190ee9-e26c-4535-eec2-6d3a1cd08bf4"
      },
      "execution_count": 31,
      "outputs": [
        {
          "output_type": "stream",
          "name": "stdout",
          "text": [
            "(1.5658979350361604, 4)\n"
          ]
        }
      ]
    },
    {
      "cell_type": "code",
      "source": [
        "def reverseIteration(x):\n",
        "    x0 = x\n",
        "    t = -1/f(x)\n",
        "    x1 = x0 + t*F(x)\n",
        "    x2 = -x0*F(x1)/(F(x0) - F(x1)) - x1*F(x0)/(F(x1) - F(x0))\n",
        "    k = 0\n",
        "    while (abs(x1 - x0) > eps) and (abs(F(x1)) > eps):\n",
        "        x0 = x1\n",
        "        x1 = x2\n",
        "        x2 = -x0*F(x1)/(F(x0) - F(x1)) - x1*F(x0)/(F(x1) - F(x0))       \n",
        "        k += 1\n",
        "    return x2, k"
      ],
      "metadata": {
        "id": "vrPu-MEd8U7g"
      },
      "execution_count": 32,
      "outputs": []
    },
    {
      "cell_type": "code",
      "source": [
        "print(reverseIteration(xn))"
      ],
      "metadata": {
        "colab": {
          "base_uri": "https://localhost:8080/"
        },
        "id": "n_QTpFCz8XVG",
        "outputId": "acf68b63-eb56-4511-bcee-c5baa2160b66"
      },
      "execution_count": 33,
      "outputs": [
        {
          "output_type": "stream",
          "name": "stdout",
          "text": [
            "(1.5707963267948968, 2)\n"
          ]
        }
      ]
    }
  ]
}